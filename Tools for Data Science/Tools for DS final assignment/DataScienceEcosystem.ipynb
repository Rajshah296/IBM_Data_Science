{
 "cells": [
  {
   "cell_type": "markdown",
   "id": "38e0b7d1-6839-44ee-a1d2-b8644eca49d6",
   "metadata": {
    "tags": []
   },
   "source": [
    "# ***Data Science Tools and Ecosystem***"
   ]
  },
  {
   "cell_type": "markdown",
   "id": "b3e547af-0deb-4018-b5c5-53601b722820",
   "metadata": {},
   "source": [
    "## **Introduction**\n",
    "    In this notebook, Data Science Tools and Ecosystems are summarized."
   ]
  },
  {
   "cell_type": "markdown",
   "id": "0cf88cff-7424-452d-9496-b954a4b28f8a",
   "metadata": {},
   "source": [
    "## Objectives:\n",
    "\n",
    "   * Popular Languages for Data Science\n",
    "   * Commonly used Libraries for Data Science\n",
    "   * Data Science Tools\n",
    "   * Evaluation of Arithmetic expressions in Python\n",
    "    \n",
    "\n"
   ]
  },
  {
   "cell_type": "markdown",
   "id": "e4e6b169-8600-4dac-8165-bb567aaf9fba",
   "metadata": {
    "tags": []
   },
   "source": [
    "## **Data Science Languages**\n",
    "    Some of the popular Data Science Languages are:\n",
    "    \n",
    "    1. Python\n",
    "    2. R\n",
    "    3. SQL\n",
    "    4. C/C++\n",
    "    5. Java\n",
    "    6. Julia\n",
    "    7. Scala "
   ]
  },
  {
   "cell_type": "markdown",
   "id": "327e0d8c-3f2c-47bb-ba77-6d299d781ff6",
   "metadata": {
    "tags": []
   },
   "source": [
    "## Libraries\n",
    "\n",
    "    Some of the commonly used libraries used by Data Scientists include:\n",
    "     \n",
    "   * Python:\n",
    "     \n",
    "     1. Pandas\n",
    "     2. Numpy\n",
    "     3. matplotlib\n",
    "     4. Seaborn\n",
    "     5. Pytorch\n",
    "     6. TensorFlow\n",
    "     7. Scikit-Learn\n",
    "        \n",
    "        \n",
    "   * R:\n",
    "   \n",
    "     1. ggplot2\n",
    "     2. dplyr\n",
    "     3. caret"
   ]
  },
  {
   "cell_type": "markdown",
   "id": "b2a9eea9-c21d-4fc6-8cc6-251561ac99e9",
   "metadata": {
    "tags": []
   },
   "source": [
    "|Data Science Tools|\n",
    "|------------------|\n",
    "|    JupyterLab    |\n",
    "|    Rstudio       |\n",
    "|Visual Studio Code|"
   ]
  },
  {
   "cell_type": "markdown",
   "id": "4e68445e-9795-462d-ac89-6e824e3e9d21",
   "metadata": {
    "tags": []
   },
   "source": [
    "### Below are a few examples of evaluating arithmetic expressions in Python"
   ]
  },
  {
   "cell_type": "code",
   "execution_count": 14,
   "id": "a0245c30-b5ac-4e42-8c7f-0ae3323c029c",
   "metadata": {
    "tags": []
   },
   "outputs": [
    {
     "data": {
      "text/plain": [
       "17"
      ]
     },
     "execution_count": 14,
     "metadata": {},
     "output_type": "execute_result"
    }
   ],
   "source": [
    "# This a simple arithmetic expression to mutiply then add integers\n",
    "(3*4)+5"
   ]
  },
  {
   "cell_type": "code",
   "execution_count": 1,
   "id": "24bc40a4-01a8-4fa1-a8db-bb7b3fa12493",
   "metadata": {
    "tags": []
   },
   "outputs": [
    {
     "name": "stdout",
     "output_type": "stream",
     "text": [
      "200 minutes= 3 and 20 minutes\n"
     ]
    }
   ],
   "source": [
    "# This will convert 200 minutes to hours by diving by 60\n",
    "\n",
    "print(f\"200 minutes= {200//60} and {200 % 60} minutes\")"
   ]
  },
  {
   "cell_type": "markdown",
   "id": "ff024ae0-9103-4c4c-ab9a-0f8725bcc5be",
   "metadata": {},
   "source": [
    "## Author\n",
    "Raj Shah"
   ]
  }
 ],
 "metadata": {
  "kernelspec": {
   "display_name": "Python 3 (ipykernel)",
   "language": "python",
   "name": "python3"
  },
  "language_info": {
   "codemirror_mode": {
    "name": "ipython",
    "version": 3
   },
   "file_extension": ".py",
   "mimetype": "text/x-python",
   "name": "python",
   "nbconvert_exporter": "python",
   "pygments_lexer": "ipython3",
   "version": "3.11.4"
  }
 },
 "nbformat": 4,
 "nbformat_minor": 5
}
